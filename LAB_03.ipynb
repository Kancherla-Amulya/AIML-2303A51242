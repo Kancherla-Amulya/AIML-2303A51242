{
  "nbformat": 4,
  "nbformat_minor": 0,
  "metadata": {
    "colab": {
      "provenance": [],
      "authorship_tag": "ABX9TyMuHggDAvJ58CDAusdycXRO",
      "include_colab_link": true
    },
    "kernelspec": {
      "name": "python3",
      "display_name": "Python 3"
    },
    "language_info": {
      "name": "python"
    }
  },
  "cells": [
    {
      "cell_type": "markdown",
      "metadata": {
        "id": "view-in-github",
        "colab_type": "text"
      },
      "source": [
        "<a href=\"https://colab.research.google.com/github/Kancherla-Amulya/AIML-2303A51242/blob/main/LAB_03.ipynb\" target=\"_parent\"><img src=\"https://colab.research.google.com/assets/colab-badge.svg\" alt=\"Open In Colab\"/></a>"
      ]
    },
    {
      "cell_type": "code",
      "execution_count": null,
      "metadata": {
        "colab": {
          "base_uri": "https://localhost:8080/",
          "height": 110
        },
        "collapsed": true,
        "id": "MoDGHdmp6SRm",
        "outputId": "aa0f5ad0-6b19-4604-b71b-2afdc1ba91b2"
      },
      "outputs": [
        {
          "output_type": "error",
          "ename": "SyntaxError",
          "evalue": "leading zeros in decimal integer literals are not permitted; use an 0o prefix for octal integers (<ipython-input-6-08071b94c302>, line 1)",
          "traceback": [
            "\u001b[0;36m  File \u001b[0;32m\"<ipython-input-6-08071b94c302>\"\u001b[0;36m, line \u001b[0;32m1\u001b[0m\n\u001b[0;31m    PART-01:Implement the AI  Game Strategy\u001b[0m\n\u001b[0m         ^\u001b[0m\n\u001b[0;31mSyntaxError\u001b[0m\u001b[0;31m:\u001b[0m leading zeros in decimal integer literals are not permitted; use an 0o prefix for octal integers\n"
          ]
        }
      ],
      "source": [
        "PART-01:Implement the AI  Game Strategy"
      ]
    },
    {
      "cell_type": "code",
      "source": [
        "from collections import namedtuple,Counter,defaultdict\n",
        "import random\n",
        "import math\n",
        "import functools\n",
        "cache=functools.lru_cache(10**6)"
      ],
      "metadata": {
        "id": "p80wLI056wLC"
      },
      "execution_count": null,
      "outputs": []
    },
    {
      "cell_type": "code",
      "source": [
        "class Game:\n",
        "  def actions(self, state ):\n",
        "      ##Return a collection of the allowable moves from this state .”””\n",
        "      raise NotImplementedError\n",
        "  def result(self, state , move ):\n",
        "      ##Return the state that results from making a move from a state .”””\n",
        "      raise NotImplementedError\n",
        "  def is_terminal (self, state ):\n",
        "       ##Return True i f this is a final state for the game.”””\n",
        "       return not self.actions(state)\n",
        "  def utility(self, state , player ):\n",
        "      ##Return the value of this final state to player .”””\n",
        "      raise NotImplementedError"
      ],
      "metadata": {
        "id": "qiZ8KjO678od"
      },
      "execution_count": null,
      "outputs": []
    },
    {
      "cell_type": "code",
      "source": [
        "def play_game (game , strategies : dict , verbose=False ):\n",
        "    ##Play a turn−taking game. ‘strategies ‘ is a {player name: function}\n",
        "    ##dict,where function(state , game) is used to get the player ’s move.””\"\n",
        "\n",
        "    state = game.initial\n",
        "    while not game. is_terminal (state ):\n",
        "        player = state. to_move\n",
        "        move = strategies [player ](game , state)\n",
        "        state = game.result(state , move)\n",
        "        if verbose:\n",
        "            print('Player', player , 'move:', move)\n",
        "            print(state)\n",
        "    return state"
      ],
      "metadata": {
        "id": "ZbNVI6Vd8y9o"
      },
      "execution_count": null,
      "outputs": []
    },
    {
      "cell_type": "markdown",
      "source": [
        "PART-02:Implement The Game Strategy Algorithms"
      ],
      "metadata": {
        "id": "O2S61JKJBH8r"
      }
    },
    {
      "cell_type": "code",
      "source": [
        "def minimax_search (game , state ):\n",
        "  ##Search game tree to determine best move;\n",
        "  ##return (value , move) pair .”””\n",
        "    player = state. to_move\n",
        "    def max_value (state ):\n",
        "        if game. is_terminal (state ):\n",
        "            return game.utility(state , player), None\n",
        "        v, move = -infinity , None\n",
        "        for a in game.actions(state ):\n",
        "            v2 , = min_value (game.result(state , a))\n",
        "            if v2 > v:\n",
        "                v, move = v2 , a\n",
        "        return v, move\n",
        "    def min_value (state ):\n",
        "        if game. is_terminal (state ):\n",
        "            return game.utility(state , player), None\n",
        "        v, move = +infinity , None\n",
        "        for a in game.actions(state ):\n",
        "            v2 , = max_value (game.result(state , a))\n",
        "            if v2 < v:\n",
        "                v, move = v2 , a\n",
        "        return v, move\n",
        "        return max_value (state)\n",
        "        infinity = math.inf"
      ],
      "metadata": {
        "id": "cI_xzymBBoLX"
      },
      "execution_count": null,
      "outputs": []
    },
    {
      "cell_type": "markdown",
      "source": [],
      "metadata": {
        "id": "UbYq_gcND5Ba"
      }
    },
    {
      "cell_type": "code",
      "source": [
        "def alphabeta_search (game , state ):\n",
        "  ##Search game to determine best action ; use alpha−beta pruning.\n",
        "  ##Search all the way to the leaves .”””\n",
        "    player = state. to_move\n",
        "def max_value (state , alpha , beta ):\n",
        "    if game. is_terminal (state ):\n",
        "        return game.utility(state , player), None\n",
        "    v, move = -infinity , None\n",
        "    for a in game.actions(state ):\n",
        "        v2 , = min_value (game.result(state , a), alpha , beta)\n",
        "        if v2 > v:\n",
        "            v, move = v2 , a\n",
        "            alpha = max(alpha , v)\n",
        "            if v >= beta:\n",
        "               return v, move\n",
        "               return v, move\n",
        "def min_value (state , alpha , beta ):\n",
        "    if game. is_terminal (state ):\n",
        "        return game.utility(state , player), None\n",
        "    v, move = +infinity , None\n",
        "    for a in game.actions(state ):\n",
        "        v2 , = max_value (game.result(state , a), alpha , beta)\n",
        "        if v2 < v:\n",
        "            v, move = v2 , a\n",
        "            beta = min(beta , v)\n",
        "            if v <= alpha:\n",
        "               return v, move\n",
        "               return v, move\n",
        "               return max_value (state , -infinity , +infinity )\n"
      ],
      "metadata": {
        "id": "SOxOTvXhHX6N"
      },
      "execution_count": null,
      "outputs": []
    },
    {
      "cell_type": "markdown",
      "source": [
        "PART-03"
      ],
      "metadata": {
        "id": "D9rfomD_MaLq"
      }
    },
    {
      "cell_type": "code",
      "source": [
        "def random_player (game , state ):return random.choice(list(game.actions(state)))\n",
        "\n",
        "def player( search_algorithm ):\n",
        " \"\"\"A game player who uses the specified search algorithm\"\"\"\n",
        " return lambda game , state: search_algorithm (game , state )[1]\n"
      ],
      "metadata": {
        "id": "IZjnzjfOLMX_"
      },
      "execution_count": null,
      "outputs": []
    },
    {
      "cell_type": "markdown",
      "source": [
        "PART-04"
      ],
      "metadata": {
        "id": "hubGYupq6t0n"
      }
    },
    {
      "cell_type": "markdown",
      "source": [
        "1.Implement Game Strategy using play_game(TicTocToe(),dict(X=random_player, O=player(alphabeta_search)),verbose=True).utility\n",
        "\n",
        "2.Implement Game Strategy using play_game(TicTocToe(),dict(X=player(alphabeta_search), O=player(minimax_search)),verbose=True).utility_search)),verbose=True).utility"
      ],
      "metadata": {
        "id": "Ue7loPu06qfg"
      }
    }
  ]
}