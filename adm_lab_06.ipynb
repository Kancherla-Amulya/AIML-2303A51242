{
  "nbformat": 4,
  "nbformat_minor": 0,
  "metadata": {
    "colab": {
      "provenance": [],
      "authorship_tag": "ABX9TyNZfw71+NcsDizXvbx5kfhg",
      "include_colab_link": true
    },
    "kernelspec": {
      "name": "python3",
      "display_name": "Python 3"
    },
    "language_info": {
      "name": "python"
    }
  },
  "cells": [
    {
      "cell_type": "markdown",
      "metadata": {
        "id": "view-in-github",
        "colab_type": "text"
      },
      "source": [
        "<a href=\"https://colab.research.google.com/github/Kancherla-Amulya/AIML-2303A51242/blob/main/adm_lab_06.ipynb\" target=\"_parent\"><img src=\"https://colab.research.google.com/assets/colab-badge.svg\" alt=\"Open In Colab\"/></a>"
      ]
    },
    {
      "cell_type": "markdown",
      "source": [
        "\n",
        "Question 1: Handling Missing Values\n",
        "Dataset:\n",
        "Name       Age            Salary\n",
        "Alice      25             50000\n",
        "Bob       NaN             60000\n",
        "Charlie    30             NaN\n",
        "David     NaN             70000\n",
        "Task:\n",
        " Fill missing Age values with the median age.\n",
        " Drop rows where Salary is missing.\n",
        "\n"
      ],
      "metadata": {
        "id": "HYIRjUzxo2Qv"
      }
    },
    {
      "cell_type": "code",
      "execution_count": 8,
      "metadata": {
        "colab": {
          "base_uri": "https://localhost:8080/"
        },
        "id": "aVKXOajnoHYY",
        "outputId": "88388f36-a9bd-49cd-8463-399a1756e32d"
      },
      "outputs": [
        {
          "output_type": "stream",
          "name": "stdout",
          "text": [
            "    Name   Age   Salary\n",
            "0  Alice  25.0  50000.0\n",
            "1    Bob  27.5  60000.0\n",
            "3  David  27.5  70000.0\n"
          ]
        },
        {
          "output_type": "stream",
          "name": "stderr",
          "text": [
            "<ipython-input-8-89065d18dca8>:15: FutureWarning: A value is trying to be set on a copy of a DataFrame or Series through chained assignment using an inplace method.\n",
            "The behavior will change in pandas 3.0. This inplace method will never work because the intermediate object on which we are setting values always behaves as a copy.\n",
            "\n",
            "For example, when doing 'df[col].method(value, inplace=True)', try using 'df.method({col: value}, inplace=True)' or df[col] = df[col].method(value) instead, to perform the operation inplace on the original object.\n",
            "\n",
            "\n",
            "  df['Age'].fillna(median_age, inplace=True)\n"
          ]
        }
      ],
      "source": [
        "import pandas as pd\n",
        "import numpy as np\n",
        "\n",
        "# Creating the dataset\n",
        "data = {\n",
        "    'Name': ['Alice', 'Bob', 'Charlie', 'David'],\n",
        "    'Age': [25, np.nan, 30, np.nan],\n",
        "    'Salary': [50000, 60000, np.nan, 70000]\n",
        "}\n",
        "\n",
        "df = pd.DataFrame(data)\n",
        "\n",
        "# Fill missing Age values with the median age\n",
        "median_age = df['Age'].median()\n",
        "df['Age'].fillna(median_age, inplace=True)\n",
        "\n",
        "# Drop rows where Salary is missing\n",
        "df.dropna(subset=['Salary'], inplace=True)\n",
        "\n",
        "\n",
        "print(df)\n"
      ]
    },
    {
      "cell_type": "markdown",
      "source": [
        "Question 2: Removing Duplicates\n",
        "Dataset:\n",
        "Name Age\n",
        "Alice 25\n",
        "Bob 30\n",
        "Alice 25\n",
        "Charlie 35\n",
        "Task:\n",
        " Identify and remove duplicate rows."
      ],
      "metadata": {
        "id": "13-ZMcjgqTu0"
      }
    },
    {
      "cell_type": "code",
      "source": [
        "import pandas as pd\n",
        "\n",
        "# Creating the dataset\n",
        "data = {\n",
        "    'Name': ['Alice', 'Bob', 'Alice', 'Charlie'],\n",
        "    'Age': [25, 30, 25, 35]\n",
        "}\n",
        "\n",
        "df = pd.DataFrame(data)\n",
        "\n",
        "# Identify and remove duplicate rows\n",
        "df.drop_duplicates(inplace=True)\n",
        "\n",
        "print(df)\n"
      ],
      "metadata": {
        "colab": {
          "base_uri": "https://localhost:8080/"
        },
        "id": "UyBd1FR4qU2k",
        "outputId": "4bbf50ac-063d-4f95-9730-00b62e46bbaa"
      },
      "execution_count": 2,
      "outputs": [
        {
          "output_type": "stream",
          "name": "stdout",
          "text": [
            "      Name  Age\n",
            "0    Alice   25\n",
            "1      Bob   30\n",
            "3  Charlie   35\n"
          ]
        }
      ]
    },
    {
      "cell_type": "markdown",
      "source": [
        "Question 3: Categorical Encoding\n",
        "\n",
        "Dataset:\n",
        "Country\n",
        "USA\n",
        "India\n",
        "UK\n",
        "India\n",
        "Task:\n",
        " Convert the Country column into numerical labels using Label Encoding."
      ],
      "metadata": {
        "id": "GgchrE7FzMNn"
      }
    },
    {
      "cell_type": "code",
      "source": [
        "import pandas as pd\n",
        "from sklearn.preprocessing import LabelEncoder\n",
        "\n",
        "# Creating the dataset\n",
        "data = {\n",
        "    'Country': ['USA', 'India', 'UK', 'India']\n",
        "}\n",
        "\n",
        "df = pd.DataFrame(data)\n",
        "\n",
        "# Initialize LabelEncoder\n",
        "label_encoder = LabelEncoder()\n",
        "\n",
        "# Convert Country column to numerical labels\n",
        "df['Country_Label'] = label_encoder.fit_transform(df['Country'])\n",
        "\n",
        "print(df)\n"
      ],
      "metadata": {
        "colab": {
          "base_uri": "https://localhost:8080/"
        },
        "id": "CTEOeQ_pqrjw",
        "outputId": "b0a939df-380c-4ed4-81a2-4e1548d3dfe6"
      },
      "execution_count": 3,
      "outputs": [
        {
          "output_type": "stream",
          "name": "stdout",
          "text": [
            "  Country  Country_Label\n",
            "0     USA              2\n",
            "1   India              0\n",
            "2      UK              1\n",
            "3   India              0\n"
          ]
        }
      ]
    },
    {
      "cell_type": "markdown",
      "source": [
        "Question 4: Outlier Removal\n",
        "Dataset:\n",
        "Item Price\n",
        "A 5\n",
        "B 20\n",
        "C 150\n",
        "D 30\n",
        "Task:\n",
        " Remove rows where Price is below 10 or above 100."
      ],
      "metadata": {
        "id": "hS_sybETzRs8"
      }
    },
    {
      "cell_type": "code",
      "source": [
        "import pandas as pd\n",
        "\n",
        "# Creating the dataset\n",
        "data = {\n",
        "    'Item': ['A', 'B', 'C', 'D'],\n",
        "    'Price': [5, 20, 150, 30]\n",
        "}\n",
        "\n",
        "df = pd.DataFrame(data)\n",
        "\n",
        "# Remove rows where Price is below 10 or above 100\n",
        "df_filtered = df[(df['Price'] >= 10) & (df['Price'] <= 100)]\n",
        "\n",
        "print(df_filtered)\n"
      ],
      "metadata": {
        "colab": {
          "base_uri": "https://localhost:8080/"
        },
        "id": "NwDPlUReq8px",
        "outputId": "dcba1f59-e1f7-49b8-e142-34ec98c61bb6"
      },
      "execution_count": 4,
      "outputs": [
        {
          "output_type": "stream",
          "name": "stdout",
          "text": [
            "  Item  Price\n",
            "1    B     20\n",
            "3    D     30\n"
          ]
        }
      ]
    },
    {
      "cell_type": "markdown",
      "source": [
        "Question 5: Column Standardization\n",
        "Dataset:\n",
        "Height\n",
        "160\n",
        "175\n",
        "152\n",
        "168\n",
        "Task:\n",
        "\n",
        " Standardize the Height column so that it has mean = 0 and std = 1.\n",
        "\n",
        "Submission: Submit your Python script and cleaned dataset. Make sure your code is well-\n",
        "documented."
      ],
      "metadata": {
        "id": "tBo1SRJ4zV_o"
      }
    },
    {
      "cell_type": "code",
      "source": [
        "import pandas as pd\n",
        "from sklearn.preprocessing import StandardScaler\n",
        "\n",
        "# Creating the dataset\n",
        "data = {\n",
        "    'Height': [160, 175, 152, 168]\n",
        "}\n",
        "\n",
        "df = pd.DataFrame(data)\n",
        "\n",
        "# Initialize the StandardScaler\n",
        "scaler = StandardScaler()\n",
        "\n",
        "# Standardize the Height column\n",
        "df['Height_Standardized'] = scaler.fit_transform(df[['Height']])\n",
        "\n",
        "print(df)\n"
      ],
      "metadata": {
        "colab": {
          "base_uri": "https://localhost:8080/"
        },
        "id": "DJLMHW5xrWfd",
        "outputId": "5c8d5eed-b4d8-470b-c629-fbe5ea5b3ac2"
      },
      "execution_count": 5,
      "outputs": [
        {
          "output_type": "stream",
          "name": "stdout",
          "text": [
            "   Height  Height_Standardized\n",
            "0     160            -0.435377\n",
            "1     175             1.306132\n",
            "2     152            -1.364183\n",
            "3     168             0.493428\n"
          ]
        }
      ]
    }
  ]
}